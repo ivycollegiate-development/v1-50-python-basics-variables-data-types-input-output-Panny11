{
 "cells": [
  {
   "cell_type": "code",
   "execution_count": null,
   "metadata": {
    "vscode": {
     "languageId": "plaintext"
    }
   },
   "outputs": [],
   "source": [
    "# Declare a variable for your name (string)\n",
    "your_name =“Panny”\n",
    "\n",
    "# Declare a variable for your age (integer)\n",
    "your_age =17\n",
    "\n",
    "# Declare a variable for your height (float)\n",
    "your_height=6.1\n",
    "\n",
    "# Declare a variable indicating if you're a student (boolean)\n",
    "is\n",
    "student=True\n",
    "\n",
    "number\n",
    "_\n",
    "string=\n",
    "\"42\"\n",
    "number\n",
    "_\n",
    "integer =\n",
    "print(f\"Converted number: {number_integer}\")\n",
    "print(f\"Type of number: {type number_integer}\")"
   ]
  }
 ],
 "metadata": {
  "language_info": {
   "name": "python"
  }
 },
 "nbformat": 4,
 "nbformat_minor": 2
}
